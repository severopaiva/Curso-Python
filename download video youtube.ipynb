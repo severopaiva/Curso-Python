{
  "nbformat": 4,
  "nbformat_minor": 0,
  "metadata": {
    "colab": {
      "provenance": [],
      "authorship_tag": "ABX9TyNTfagEA6CxLQR8uGcqKfi0",
      "include_colab_link": true
    },
    "kernelspec": {
      "name": "python3",
      "display_name": "Python 3"
    },
    "language_info": {
      "name": "python"
    }
  },
  "cells": [
    {
      "cell_type": "markdown",
      "metadata": {
        "id": "view-in-github",
        "colab_type": "text"
      },
      "source": [
        "<a href=\"https://colab.research.google.com/github/severopaiva/Curso-Python/blob/main/download%20video%20youtube.ipynb\" target=\"_parent\"><img src=\"https://colab.research.google.com/assets/colab-badge.svg\" alt=\"Open In Colab\"/></a>"
      ]
    },
    {
      "cell_type": "code",
      "execution_count": null,
      "metadata": {
        "id": "fATS1Hst0JBB"
      },
      "outputs": [],
      "source": [
        "from pytube import YouTube\n",
        "\n",
        "url = input(\"Digite a url do vídeo para download: \")\n",
        "\n",
        "yt = YouTube(url)\n",
        "\n",
        "print (\"Selecionando o melhor stream de vídeo disponível\")\n",
        "#video = yt.streams.first() - first não se preocupa com a qualidade do vídeo\n",
        "video = yt.streams.get_highest_resolution()\n",
        "\n",
        "print (\"Baixando o vídeo\")\n",
        "video.download(r\"c:\\users\\paiva\\Downloads\")\n",
        "print (\"\\nDownload Concluído !\")"
      ]
    }
  ]
}